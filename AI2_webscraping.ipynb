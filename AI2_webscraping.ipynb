{
  "nbformat": 4,
  "nbformat_minor": 0,
  "metadata": {
    "colab": {
      "name": "AI2_webscraping.ipynb",
      "provenance": []
    },
    "kernelspec": {
      "name": "python3",
      "display_name": "Python 3"
    }
  },
  "cells": [
    {
      "cell_type": "code",
      "metadata": {
        "id": "o4UqFhK1H5gL",
        "colab": {
          "base_uri": "https://localhost:8080/"
        },
        "outputId": "afbd4933-a1e7-47b5-d9ce-4da091b45548"
      },
      "source": [
        "!pip install bs4"
      ],
      "execution_count": null,
      "outputs": [
        {
          "output_type": "stream",
          "text": [
            "Requirement already satisfied: bs4 in /usr/local/lib/python3.7/dist-packages (0.0.1)\n",
            "Requirement already satisfied: beautifulsoup4 in /usr/local/lib/python3.7/dist-packages (from bs4) (4.6.3)\n"
          ],
          "name": "stdout"
        }
      ]
    },
    {
      "cell_type": "code",
      "metadata": {
        "id": "7aGvmbAFad4v"
      },
      "source": [
        "from bs4 import BeautifulSoup\n",
        "import requests"
      ],
      "execution_count": null,
      "outputs": []
    },
    {
      "cell_type": "code",
      "metadata": {
        "id": "N6GtP31Jad6-"
      },
      "source": [
        "url = \"http://www.ibm.com\""
      ],
      "execution_count": null,
      "outputs": []
    },
    {
      "cell_type": "code",
      "metadata": {
        "id": "hYHfyv0qad9m"
      },
      "source": [
        "data = requests.get(url).text"
      ],
      "execution_count": null,
      "outputs": []
    },
    {
      "cell_type": "code",
      "metadata": {
        "id": "dSOEiVuUaeAL"
      },
      "source": [
        "soup = BeautifulSoup(data,\"html5lib\")"
      ],
      "execution_count": null,
      "outputs": []
    },
    {
      "cell_type": "code",
      "metadata": {
        "colab": {
          "base_uri": "https://localhost:8080/"
        },
        "id": "2ySQ87zsaeCk",
        "outputId": "c01b35dd-b8f1-4644-a16d-a6d7c65ac17d"
      },
      "source": [
        "for link in soup.find_all('a',href=True):\n",
        "  print(link.get('href'))"
      ],
      "execution_count": null,
      "outputs": [
        {
          "output_type": "stream",
          "text": [
            "https://www.ibm.com/nl/en\n",
            "https://www.ibm.com/sitemap/nl/en\n",
            "/nl-en/node/1706826\n",
            "https://ibm.box.com/shared/static/pnj81e7lncy7fj9tpjb8i3uahk4dr9rv.jpg\n",
            "https://ibm.box.com/shared/static/0ovwrgh9cfs46k141wspzzvd40cf8m2j.jpg\n",
            "https://www.ibm.com/cloud/go-hybrid?lnk=nlhpv18l1\n",
            "/taxonomy/term/85416\n",
            "/nl-en/node/1706856\n",
            "https://newsroom.ibm.com/2020-12-21-IBM-to-Acquire-Nordcloud-to-Turbocharge-Its-Hybrid-Cloud-Consulting-Capability?lnk=nlhpv18nf\n",
            "/taxonomy/term/85416\n",
            "/nl-en/node/1706851\n",
            "/nl-en/node/1706831\n",
            "/nl-en/node/1706836\n",
            "/nl-en/node/1706841\n",
            "/nl-en/node/1706846\n",
            "/taxonomy/term/85416\n",
            "/nl-en/node/1706821\n",
            "/taxonomy/term/85416\n",
            "https://www.ibm.com/nl-en/employment/\n",
            "/nl-en/node/1706816\n",
            "https://www.ibm.com/nl-en/products/offers-and-discounts?lnk=STW_NL_HP_T_TL&psrc=NONE&pexp=DEF&lnk2=goto_MPDISC\n",
            "/nl-en/node/1706801\n",
            "/nl-en/node/1706806\n",
            "/nl-en/node/1706796\n",
            "/nl-en/node/1706811\n",
            "/taxonomy/term/85416\n",
            "/nl-en/node/1706866\n",
            "/en/node/1706861\n",
            "/taxonomy/term/85416\n",
            "https://www.ibm.com/cloud/go-hybrid?lnk=nlhpv18l1\n",
            "https://www.ibm.com/cloud/go-hybrid?lnk=nlhpv18l1\n",
            "https://www.ibm.com/events/think?lnk=behpv18f1\n",
            "https://www.ibm.com/cloud/go-hybrid?lnk=nlhpv18f2\n",
            "https://www.ibm.com/nl-en/marketing/ibmlabs?lnk=nlhpv18f2\n",
            "https://www.ibm.com/nl-en/marketing/this-is-ibm?lnk=nlhpv18f4\n",
            "https://www.ibm.com/search?lang=en&amp;cc=nl&amp;q=\n",
            "/nl-en/products\n",
            "/nl-en/products\n",
            "//www.ibm.com/nl-en/products/category/technology/analytics\n",
            "//www.ibm.com/nl-en/products/category/technology/IT-infrastructure\n",
            "//www.ibm.com/nl-en/products/category/technology/software-development\n",
            "//www.ibm.com/nl-en/products/category/technology/cognitive-computing-and-AI\n",
            "//www.ibm.com/nl-en/products/category/technology/IT-management\n",
            "//www.ibm.com/nl-en/products/category/technology/blockchain\n",
            "//www.ibm.com/nl-en/products/category/technology/mobile-technology\n",
            "//www.ibm.com/nl-en/products/category/technology/cloud-computing\n",
            "//www.ibm.com/nl-en/products/category/technology/security\n",
            "//www.ibm.com/nl-en/products/category/technology/analytics\n",
            "//www.ibm.com/nl-en/products/category/technology/IT-infrastructure\n",
            "//www.ibm.com/nl-en/products/category/technology/software-development\n",
            "//www.ibm.com/nl-en/products/category/technology/cognitive-computing-and-AI\n",
            "//www.ibm.com/nl-en/products/category/technology/IT-management\n",
            "//www.ibm.com/nl-en/products/category/technology/blockchain\n",
            "//www.ibm.com/nl-en/products/category/technology/mobile-technology\n",
            "//www.ibm.com/nl-en/products/category/technology/cloud-computing\n",
            "//www.ibm.com/nl-en/products/category/technology/security\n",
            "//www.ibm.com/nl-en/products/category/business/business-operations\n",
            "//www.ibm.com/nl-en/products/category/business/customer-service-and-CRM\n",
            "//www.ibm.com/nl-en/products/category/business/supply-chain-management\n",
            "//www.ibm.com/nl-en/products/category/business/collaboration\n",
            "//www.ibm.com/nl-en/products/category/business/finance\n",
            "//www.ibm.com/nl-en/products/category/business/commerce\n",
            "//www.ibm.com/nl-en/products/category/business/human-resources\n",
            "//www.ibm.com/nl-en/products/category/business/content-management\n",
            "//www.ibm.com/nl-en/products/category/business/marketing\n",
            "https://www.ibm.com/nl-en/products/offers-and-discounts?lnk=STW_NL_HP_T_TL&psrc=NONE&pexp=DEF&lnk2=goto_MPDISC\n",
            "https://www.ibm.com/nl-en/products/spectrum-scale?lnk=STW_NL_HP_T1_BLK&psrc=NONE&pexp=DEF&lnk2=trial_SpecScale\n",
            "https://www.ibm.com/nl-en/cloud/watson-discovery?lnk=STW_NL_HP_T2_BLK&psrc=NONE&pexp=DEF&lnk2=trial_WatDiscovery\n",
            "https://www.ibm.com/nl-en/products/rpa-with-automation-anywhere?lnk=STW_NL_HP_T3_BLK&psrc=NONE&pexp=DEF&lnk2=trial_RoboticProcess\n",
            "https://www.ibm.com/nl-en/products/spss-statistics?lnk=STW_NL_HP_T4_BLK&psrc=NONE&pexp=DEF&lnk2=trial_SPSSstat\n",
            "https://www.ibm.com/nl-en/employment/\n",
            "https://www.ibm.com/nl-en/employment/\n",
            "#\n"
          ],
          "name": "stdout"
        }
      ]
    },
    {
      "cell_type": "code",
      "metadata": {
        "colab": {
          "base_uri": "https://localhost:8080/"
        },
        "id": "f_Vx35OoaeG7",
        "outputId": "2beefd4c-3967-4b5f-9c9e-42312bd5db4a"
      },
      "source": [
        "for link in soup.find_all('img'):\n",
        "  print(link)\n",
        "  print(link.get('src'))"
      ],
      "execution_count": null,
      "outputs": [
        {
          "output_type": "stream",
          "text": [
            "<img alt=\"Data\" class=\"ibm-resize\" src=\"https://ibm.box.com/shared/static/0ovwrgh9cfs46k141wspzzvd40cf8m2j.jpg\"/>\n",
            "https://ibm.box.com/shared/static/0ovwrgh9cfs46k141wspzzvd40cf8m2j.jpg\n",
            "<img alt=\"think2021\" class=\"ibm-resize ibm-flex\" height=\"170\" src=\"https://ibm.box.com/shared/static/v8rescj3ptye7cr7yuxorf0zsp7p80sz.jpg\" width=\"300\"/>\n",
            "https://ibm.box.com/shared/static/v8rescj3ptye7cr7yuxorf0zsp7p80sz.jpg\n",
            "<img alt=\"hybridcloud\" class=\"ibm-resize ibm-flex\" height=\"170\" src=\"https://1.dam.s81c.com/public/content/dam/worldwide-content/homepage/ul/g/22/99/20201221-f-hybrid-444x320.jpg\" width=\"300\"/>\n",
            "https://1.dam.s81c.com/public/content/dam/worldwide-content/homepage/ul/g/22/99/20201221-f-hybrid-444x320.jpg\n",
            "<img alt=\"ibmlabs\" class=\"ibm-resize ibm-flex\" height=\"170\" src=\"https://ibm.box.com/shared/static/vjk3vhs08nyjx1td09i3t0wv15evhvie.jpg\" width=\"300\"/>\n",
            "https://ibm.box.com/shared/static/vjk3vhs08nyjx1td09i3t0wv15evhvie.jpg\n",
            "<img alt=\"thisisibm\" class=\"ibm-resize ibm-flex\" height=\"170\" src=\"https://1.dam.s81c.com/m/64ad5efc49c6474a/original/22052019-dede-thisisibm-444x320.png\" width=\"300\"/>\n",
            "https://1.dam.s81c.com/m/64ad5efc49c6474a/original/22052019-dede-thisisibm-444x320.png\n",
            "<img alt=\"IBM Spectrum Scale screenshot\" class=\"ibm-resize ibm-flex\" height=\"170\" src=\"https://1.dam.s81c.com/public/content/dam/worldwide-content/homepage/ul/g/86/01/Spectrum_Scale_Trial.png\" width=\"300\"/>\n",
            "https://1.dam.s81c.com/public/content/dam/worldwide-content/homepage/ul/g/86/01/Spectrum_Scale_Trial.png\n",
            "<img alt=\"Watson Discovery screenshot\" class=\"ibm-resize ibm-flex\" height=\"170\" src=\"https://1.dam.s81c.com/public/content/dam/worldwide-content/homepage/ul/g/bc/3b/watson-discovery-screenshot-444x260.png\" width=\"300\"/>\n",
            "https://1.dam.s81c.com/public/content/dam/worldwide-content/homepage/ul/g/bc/3b/watson-discovery-screenshot-444x260.png\n",
            "<img alt=\"IBM Robotic Process Automation screenshot\" class=\"ibm-resize ibm-flex\" height=\"170\" src=\"https://1.dam.s81c.com/public/content/dam/worldwide-content/homepage/ul/g/3a/70/robotic-process-automation-trial-444x266.png\" width=\"300\"/>\n",
            "https://1.dam.s81c.com/public/content/dam/worldwide-content/homepage/ul/g/3a/70/robotic-process-automation-trial-444x266.png\n",
            "<img alt=\"IBM SPSS Statistics screenshot\" class=\"ibm-resize ibm-flex\" height=\"170\" src=\"https://1.dam.s81c.com/public/content/dam/worldwide-content/other/ul/g/eb/4c/eb4c73f4-8a24-4755-99eeea6a81c6617f.png\" width=\"300\"/>\n",
            "https://1.dam.s81c.com/public/content/dam/worldwide-content/other/ul/g/eb/4c/eb4c73f4-8a24-4755-99eeea6a81c6617f.png\n"
          ],
          "name": "stdout"
        }
      ]
    },
    {
      "cell_type": "code",
      "metadata": {
        "id": "dgD8XCr3aeSc"
      },
      "source": [
        "url = \"https://cf-courses-data.s3.us.cloud-object-storage.appdomain.cloud/IBM-DA0321EN-SkillsNetwork/labs/datasets/HTMLColorCodes.html\""
      ],
      "execution_count": null,
      "outputs": []
    },
    {
      "cell_type": "code",
      "metadata": {
        "id": "sRzu_JmNaeU8"
      },
      "source": [
        "data = requests.get(url).text"
      ],
      "execution_count": null,
      "outputs": []
    },
    {
      "cell_type": "code",
      "metadata": {
        "id": "hchjEeJhaeXe"
      },
      "source": [
        "soup = BeautifulSoup(data,\"html5lib\")"
      ],
      "execution_count": null,
      "outputs": []
    },
    {
      "cell_type": "code",
      "metadata": {
        "id": "mfplpVhkaeaz"
      },
      "source": [
        "table = soup.find(\"table\")"
      ],
      "execution_count": null,
      "outputs": []
    },
    {
      "cell_type": "code",
      "metadata": {
        "colab": {
          "base_uri": "https://localhost:8080/"
        },
        "id": "GVj1ne-qf1DO",
        "outputId": "e9dcb3fc-83c5-4338-b81b-e97003b85249"
      },
      "source": [
        "for rows in table.find_all('tr'):\n",
        "  cols = rows.find_all('td')\n",
        "  color_name = cols[2].string\n",
        "  color_code = cols[3].string\n",
        "  print(\"{}---->{}\".format(color_name,color_code))"
      ],
      "execution_count": null,
      "outputs": [
        {
          "output_type": "stream",
          "text": [
            "Color Name---->None\n",
            "lightsalmon---->#FFA07A\n",
            "salmon---->#FA8072\n",
            "darksalmon---->#E9967A\n",
            "lightcoral---->#F08080\n",
            "coral---->#FF7F50\n",
            "tomato---->#FF6347\n",
            "orangered---->#FF4500\n",
            "gold---->#FFD700\n",
            "orange---->#FFA500\n",
            "darkorange---->#FF8C00\n",
            "lightyellow---->#FFFFE0\n",
            "lemonchiffon---->#FFFACD\n",
            "papayawhip---->#FFEFD5\n",
            "moccasin---->#FFE4B5\n",
            "peachpuff---->#FFDAB9\n",
            "palegoldenrod---->#EEE8AA\n",
            "khaki---->#F0E68C\n",
            "darkkhaki---->#BDB76B\n",
            "yellow---->#FFFF00\n",
            "lawngreen---->#7CFC00\n",
            "chartreuse---->#7FFF00\n",
            "limegreen---->#32CD32\n",
            "lime---->#00FF00\n",
            "forestgreen---->#228B22\n",
            "green---->#008000\n",
            "powderblue---->#B0E0E6\n",
            "lightblue---->#ADD8E6\n",
            "lightskyblue---->#87CEFA\n",
            "skyblue---->#87CEEB\n",
            "deepskyblue---->#00BFFF\n",
            "lightsteelblue---->#B0C4DE\n",
            "dodgerblue---->#1E90FF\n"
          ],
          "name": "stdout"
        }
      ]
    },
    {
      "cell_type": "code",
      "metadata": {
        "id": "Kftkgrn7f1Mx"
      },
      "source": [
        "import pandas as pd "
      ],
      "execution_count": null,
      "outputs": []
    },
    {
      "cell_type": "code",
      "metadata": {
        "id": "aHCGJHECjsKD"
      },
      "source": [
        "url = \"https://en.wikipedia.org/wiki/World_population\""
      ],
      "execution_count": null,
      "outputs": []
    },
    {
      "cell_type": "code",
      "metadata": {
        "id": "5eGgSbBEjsiy"
      },
      "source": [
        "data = requests.get(url).text"
      ],
      "execution_count": null,
      "outputs": []
    },
    {
      "cell_type": "code",
      "metadata": {
        "id": "n37yI-2QjsuH"
      },
      "source": [
        "soup = BeautifulSoup(data,\"html5lib\")"
      ],
      "execution_count": null,
      "outputs": []
    },
    {
      "cell_type": "code",
      "metadata": {
        "id": "JSyujBcRf1YO"
      },
      "source": [
        "tables = soup.find_all('table')"
      ],
      "execution_count": null,
      "outputs": []
    },
    {
      "cell_type": "code",
      "metadata": {
        "colab": {
          "base_uri": "https://localhost:8080/"
        },
        "id": "7E0RC1uif1ly",
        "outputId": "ce214c17-0d6b-46fc-db60-5d425e04931d"
      },
      "source": [
        "len(tables)"
      ],
      "execution_count": null,
      "outputs": [
        {
          "output_type": "execute_result",
          "data": {
            "text/plain": [
              "25"
            ]
          },
          "metadata": {
            "tags": []
          },
          "execution_count": 24
        }
      ]
    },
    {
      "cell_type": "code",
      "metadata": {
        "colab": {
          "base_uri": "https://localhost:8080/"
        },
        "id": "svXJDDDfkL-J",
        "outputId": "93ed6625-a7b8-4688-f25b-8c36e41a2279"
      },
      "source": [
        "for index,table in enumerate(tables):\n",
        "  if (\"10 most densely populated countries\" in str(table)):\n",
        "    table_index = index\n",
        "print(table_index)    "
      ],
      "execution_count": null,
      "outputs": [
        {
          "output_type": "stream",
          "text": [
            "5\n"
          ],
          "name": "stdout"
        }
      ]
    },
    {
      "cell_type": "code",
      "metadata": {
        "colab": {
          "base_uri": "https://localhost:8080/"
        },
        "id": "cNMTfBUakMJ5",
        "outputId": "bf043fce-819e-4d81-b857-2322bd0694b0"
      },
      "source": [
        "print(tables[table_index].prettify())"
      ],
      "execution_count": null,
      "outputs": [
        {
          "output_type": "stream",
          "text": [
            "<table class=\"wikitable sortable\" style=\"text-align:right\">\n",
            " <caption>\n",
            "  10 most densely populated countries\n",
            "  <small>\n",
            "   (with population above 5 million)\n",
            "  </small>\n",
            " </caption>\n",
            " <tbody>\n",
            "  <tr>\n",
            "   <th>\n",
            "    Rank\n",
            "   </th>\n",
            "   <th>\n",
            "    Country\n",
            "   </th>\n",
            "   <th>\n",
            "    Population\n",
            "   </th>\n",
            "   <th>\n",
            "    Area\n",
            "    <br/>\n",
            "    <small>\n",
            "     (km\n",
            "     <sup>\n",
            "      2\n",
            "     </sup>\n",
            "     )\n",
            "    </small>\n",
            "   </th>\n",
            "   <th>\n",
            "    Density\n",
            "    <br/>\n",
            "    <small>\n",
            "     (pop/km\n",
            "     <sup>\n",
            "      2\n",
            "     </sup>\n",
            "     )\n",
            "    </small>\n",
            "   </th>\n",
            "  </tr>\n",
            "  <tr>\n",
            "   <td>\n",
            "    1\n",
            "   </td>\n",
            "   <td align=\"left\">\n",
            "    <span class=\"flagicon\">\n",
            "     <img alt=\"\" class=\"thumbborder\" data-file-height=\"2880\" data-file-width=\"4320\" decoding=\"async\" height=\"15\" src=\"//upload.wikimedia.org/wikipedia/commons/thumb/4/48/Flag_of_Singapore.svg/23px-Flag_of_Singapore.svg.png\" srcset=\"//upload.wikimedia.org/wikipedia/commons/thumb/4/48/Flag_of_Singapore.svg/35px-Flag_of_Singapore.svg.png 1.5x, //upload.wikimedia.org/wikipedia/commons/thumb/4/48/Flag_of_Singapore.svg/45px-Flag_of_Singapore.svg.png 2x\" width=\"23\"/>\n",
            "    </span>\n",
            "    <a href=\"/wiki/Singapore\" title=\"Singapore\">\n",
            "     Singapore\n",
            "    </a>\n",
            "   </td>\n",
            "   <td>\n",
            "    5,704,000\n",
            "   </td>\n",
            "   <td>\n",
            "    710\n",
            "   </td>\n",
            "   <td>\n",
            "    8,033\n",
            "   </td>\n",
            "  </tr>\n",
            "  <tr>\n",
            "   <td>\n",
            "    2\n",
            "   </td>\n",
            "   <td align=\"left\">\n",
            "    <span class=\"flagicon\">\n",
            "     <img alt=\"\" class=\"thumbborder\" data-file-height=\"600\" data-file-width=\"1000\" decoding=\"async\" height=\"14\" src=\"//upload.wikimedia.org/wikipedia/commons/thumb/f/f9/Flag_of_Bangladesh.svg/23px-Flag_of_Bangladesh.svg.png\" srcset=\"//upload.wikimedia.org/wikipedia/commons/thumb/f/f9/Flag_of_Bangladesh.svg/35px-Flag_of_Bangladesh.svg.png 1.5x, //upload.wikimedia.org/wikipedia/commons/thumb/f/f9/Flag_of_Bangladesh.svg/46px-Flag_of_Bangladesh.svg.png 2x\" width=\"23\"/>\n",
            "    </span>\n",
            "    <a href=\"/wiki/Bangladesh\" title=\"Bangladesh\">\n",
            "     Bangladesh\n",
            "    </a>\n",
            "   </td>\n",
            "   <td>\n",
            "    170,250,000\n",
            "   </td>\n",
            "   <td>\n",
            "    143,998\n",
            "   </td>\n",
            "   <td>\n",
            "    1,182\n",
            "   </td>\n",
            "  </tr>\n",
            "  <tr>\n",
            "   <td>\n",
            "    3\n",
            "   </td>\n",
            "   <td align=\"left\">\n",
            "    <span class=\"flagicon\">\n",
            "     <img alt=\"\" class=\"thumbborder\" data-file-height=\"600\" data-file-width=\"900\" decoding=\"async\" height=\"15\" src=\"//upload.wikimedia.org/wikipedia/commons/thumb/5/59/Flag_of_Lebanon.svg/23px-Flag_of_Lebanon.svg.png\" srcset=\"//upload.wikimedia.org/wikipedia/commons/thumb/5/59/Flag_of_Lebanon.svg/35px-Flag_of_Lebanon.svg.png 1.5x, //upload.wikimedia.org/wikipedia/commons/thumb/5/59/Flag_of_Lebanon.svg/45px-Flag_of_Lebanon.svg.png 2x\" width=\"23\"/>\n",
            "    </span>\n",
            "    <a href=\"/wiki/Lebanon\" title=\"Lebanon\">\n",
            "     Lebanon\n",
            "    </a>\n",
            "   </td>\n",
            "   <td>\n",
            "    6,856,000\n",
            "   </td>\n",
            "   <td>\n",
            "    10,452\n",
            "   </td>\n",
            "   <td>\n",
            "    656\n",
            "   </td>\n",
            "  </tr>\n",
            "  <tr>\n",
            "   <td>\n",
            "    4\n",
            "   </td>\n",
            "   <td align=\"left\">\n",
            "    <span class=\"flagicon\">\n",
            "     <img alt=\"\" class=\"thumbborder\" data-file-height=\"600\" data-file-width=\"900\" decoding=\"async\" height=\"15\" src=\"//upload.wikimedia.org/wikipedia/commons/thumb/7/72/Flag_of_the_Republic_of_China.svg/23px-Flag_of_the_Republic_of_China.svg.png\" srcset=\"//upload.wikimedia.org/wikipedia/commons/thumb/7/72/Flag_of_the_Republic_of_China.svg/35px-Flag_of_the_Republic_of_China.svg.png 1.5x, //upload.wikimedia.org/wikipedia/commons/thumb/7/72/Flag_of_the_Republic_of_China.svg/45px-Flag_of_the_Republic_of_China.svg.png 2x\" width=\"23\"/>\n",
            "    </span>\n",
            "    <a href=\"/wiki/Taiwan\" title=\"Taiwan\">\n",
            "     Taiwan\n",
            "    </a>\n",
            "   </td>\n",
            "   <td>\n",
            "    23,604,000\n",
            "   </td>\n",
            "   <td>\n",
            "    36,193\n",
            "   </td>\n",
            "   <td>\n",
            "    652\n",
            "   </td>\n",
            "  </tr>\n",
            "  <tr>\n",
            "   <td>\n",
            "    5\n",
            "   </td>\n",
            "   <td align=\"left\">\n",
            "    <span class=\"flagicon\">\n",
            "     <img alt=\"\" class=\"thumbborder\" data-file-height=\"600\" data-file-width=\"900\" decoding=\"async\" height=\"15\" src=\"//upload.wikimedia.org/wikipedia/commons/thumb/0/09/Flag_of_South_Korea.svg/23px-Flag_of_South_Korea.svg.png\" srcset=\"//upload.wikimedia.org/wikipedia/commons/thumb/0/09/Flag_of_South_Korea.svg/35px-Flag_of_South_Korea.svg.png 1.5x, //upload.wikimedia.org/wikipedia/commons/thumb/0/09/Flag_of_South_Korea.svg/45px-Flag_of_South_Korea.svg.png 2x\" width=\"23\"/>\n",
            "    </span>\n",
            "    <a href=\"/wiki/South_Korea\" title=\"South Korea\">\n",
            "     South Korea\n",
            "    </a>\n",
            "   </td>\n",
            "   <td>\n",
            "    51,781,000\n",
            "   </td>\n",
            "   <td>\n",
            "    99,538\n",
            "   </td>\n",
            "   <td>\n",
            "    520\n",
            "   </td>\n",
            "  </tr>\n",
            "  <tr>\n",
            "   <td>\n",
            "    6\n",
            "   </td>\n",
            "   <td align=\"left\">\n",
            "    <span class=\"flagicon\">\n",
            "     <img alt=\"\" class=\"thumbborder\" data-file-height=\"720\" data-file-width=\"1080\" decoding=\"async\" height=\"15\" src=\"//upload.wikimedia.org/wikipedia/commons/thumb/1/17/Flag_of_Rwanda.svg/23px-Flag_of_Rwanda.svg.png\" srcset=\"//upload.wikimedia.org/wikipedia/commons/thumb/1/17/Flag_of_Rwanda.svg/35px-Flag_of_Rwanda.svg.png 1.5x, //upload.wikimedia.org/wikipedia/commons/thumb/1/17/Flag_of_Rwanda.svg/45px-Flag_of_Rwanda.svg.png 2x\" width=\"23\"/>\n",
            "    </span>\n",
            "    <a href=\"/wiki/Rwanda\" title=\"Rwanda\">\n",
            "     Rwanda\n",
            "    </a>\n",
            "   </td>\n",
            "   <td>\n",
            "    12,374,000\n",
            "   </td>\n",
            "   <td>\n",
            "    26,338\n",
            "   </td>\n",
            "   <td>\n",
            "    470\n",
            "   </td>\n",
            "  </tr>\n",
            "  <tr>\n",
            "   <td>\n",
            "    7\n",
            "   </td>\n",
            "   <td align=\"left\">\n",
            "    <span class=\"flagicon\">\n",
            "     <img alt=\"\" class=\"thumbborder\" data-file-height=\"600\" data-file-width=\"1000\" decoding=\"async\" height=\"14\" src=\"//upload.wikimedia.org/wikipedia/commons/thumb/5/56/Flag_of_Haiti.svg/23px-Flag_of_Haiti.svg.png\" srcset=\"//upload.wikimedia.org/wikipedia/commons/thumb/5/56/Flag_of_Haiti.svg/35px-Flag_of_Haiti.svg.png 1.5x, //upload.wikimedia.org/wikipedia/commons/thumb/5/56/Flag_of_Haiti.svg/46px-Flag_of_Haiti.svg.png 2x\" width=\"23\"/>\n",
            "    </span>\n",
            "    <a href=\"/wiki/Haiti\" title=\"Haiti\">\n",
            "     Haiti\n",
            "    </a>\n",
            "   </td>\n",
            "   <td>\n",
            "    11,578,000\n",
            "   </td>\n",
            "   <td>\n",
            "    27,065\n",
            "   </td>\n",
            "   <td>\n",
            "    428\n",
            "   </td>\n",
            "  </tr>\n",
            "  <tr>\n",
            "   <td>\n",
            "    8\n",
            "   </td>\n",
            "   <td align=\"left\">\n",
            "    <span class=\"flagicon\">\n",
            "     <img alt=\"\" class=\"thumbborder\" data-file-height=\"600\" data-file-width=\"900\" decoding=\"async\" height=\"15\" src=\"//upload.wikimedia.org/wikipedia/commons/thumb/2/20/Flag_of_the_Netherlands.svg/23px-Flag_of_the_Netherlands.svg.png\" srcset=\"//upload.wikimedia.org/wikipedia/commons/thumb/2/20/Flag_of_the_Netherlands.svg/35px-Flag_of_the_Netherlands.svg.png 1.5x, //upload.wikimedia.org/wikipedia/commons/thumb/2/20/Flag_of_the_Netherlands.svg/45px-Flag_of_the_Netherlands.svg.png 2x\" width=\"23\"/>\n",
            "    </span>\n",
            "    <a href=\"/wiki/Netherlands\" title=\"Netherlands\">\n",
            "     Netherlands\n",
            "    </a>\n",
            "   </td>\n",
            "   <td>\n",
            "    17,570,000\n",
            "   </td>\n",
            "   <td>\n",
            "    41,526\n",
            "   </td>\n",
            "   <td>\n",
            "    423\n",
            "   </td>\n",
            "  </tr>\n",
            "  <tr>\n",
            "   <td>\n",
            "    9\n",
            "   </td>\n",
            "   <td align=\"left\">\n",
            "    <span class=\"flagicon\">\n",
            "     <img alt=\"\" class=\"thumbborder\" data-file-height=\"800\" data-file-width=\"1100\" decoding=\"async\" height=\"15\" src=\"//upload.wikimedia.org/wikipedia/commons/thumb/d/d4/Flag_of_Israel.svg/21px-Flag_of_Israel.svg.png\" srcset=\"//upload.wikimedia.org/wikipedia/commons/thumb/d/d4/Flag_of_Israel.svg/32px-Flag_of_Israel.svg.png 1.5x, //upload.wikimedia.org/wikipedia/commons/thumb/d/d4/Flag_of_Israel.svg/41px-Flag_of_Israel.svg.png 2x\" width=\"21\"/>\n",
            "    </span>\n",
            "    <a href=\"/wiki/Israel\" title=\"Israel\">\n",
            "     Israel\n",
            "    </a>\n",
            "   </td>\n",
            "   <td>\n",
            "    9,320,000\n",
            "   </td>\n",
            "   <td>\n",
            "    22,072\n",
            "   </td>\n",
            "   <td>\n",
            "    422\n",
            "   </td>\n",
            "  </tr>\n",
            "  <tr>\n",
            "   <td>\n",
            "    10\n",
            "   </td>\n",
            "   <td align=\"left\">\n",
            "    <span class=\"flagicon\">\n",
            "     <img alt=\"\" class=\"thumbborder\" data-file-height=\"900\" data-file-width=\"1350\" decoding=\"async\" height=\"15\" src=\"//upload.wikimedia.org/wikipedia/en/thumb/4/41/Flag_of_India.svg/23px-Flag_of_India.svg.png\" srcset=\"//upload.wikimedia.org/wikipedia/en/thumb/4/41/Flag_of_India.svg/35px-Flag_of_India.svg.png 1.5x, //upload.wikimedia.org/wikipedia/en/thumb/4/41/Flag_of_India.svg/45px-Flag_of_India.svg.png 2x\" width=\"23\"/>\n",
            "    </span>\n",
            "    <a href=\"/wiki/India\" title=\"India\">\n",
            "     India\n",
            "    </a>\n",
            "   </td>\n",
            "   <td>\n",
            "    1,373,980,000\n",
            "   </td>\n",
            "   <td>\n",
            "    3,287,240\n",
            "   </td>\n",
            "   <td>\n",
            "    418\n",
            "   </td>\n",
            "  </tr>\n",
            " </tbody>\n",
            "</table>\n",
            "\n"
          ],
          "name": "stdout"
        }
      ]
    },
    {
      "cell_type": "code",
      "metadata": {
        "colab": {
          "base_uri": "https://localhost:8080/",
          "height": 363
        },
        "id": "_M1WIhH4kMVp",
        "outputId": "aaa33757-b0a5-47bb-ea1d-2f0f38a6de45"
      },
      "source": [
        "population_data = pd.DataFrame(columns=[\"Rank\", \"Country\", \"Population\", \"Area\", \"Density\"])\n",
        "for row in tables[table_index].tbody.find_all('tr'):\n",
        "  col = row.find_all(\"td\")\n",
        "  if (col != []):\n",
        "    rank = col[0].text\n",
        "    country = col[1].text\n",
        "    population = col[2].text.strip()\n",
        "    area = col[3].text.strip()\n",
        "    density = col[4].text.strip()\n",
        "    population_data = population_data.append({\"Rank\":rank,\"Country\":country,\"Population\":population,\"Area\":area,\"Density\":density},ignore_index=True)\n",
        "population_data\n",
        "\n"
      ],
      "execution_count": null,
      "outputs": [
        {
          "output_type": "execute_result",
          "data": {
            "text/html": [
              "<div>\n",
              "<style scoped>\n",
              "    .dataframe tbody tr th:only-of-type {\n",
              "        vertical-align: middle;\n",
              "    }\n",
              "\n",
              "    .dataframe tbody tr th {\n",
              "        vertical-align: top;\n",
              "    }\n",
              "\n",
              "    .dataframe thead th {\n",
              "        text-align: right;\n",
              "    }\n",
              "</style>\n",
              "<table border=\"1\" class=\"dataframe\">\n",
              "  <thead>\n",
              "    <tr style=\"text-align: right;\">\n",
              "      <th></th>\n",
              "      <th>Rank</th>\n",
              "      <th>Country</th>\n",
              "      <th>Population</th>\n",
              "      <th>Area</th>\n",
              "      <th>Density</th>\n",
              "    </tr>\n",
              "  </thead>\n",
              "  <tbody>\n",
              "    <tr>\n",
              "      <th>0</th>\n",
              "      <td>1</td>\n",
              "      <td>Singapore</td>\n",
              "      <td>5,704,000</td>\n",
              "      <td>710</td>\n",
              "      <td>8,033</td>\n",
              "    </tr>\n",
              "    <tr>\n",
              "      <th>1</th>\n",
              "      <td>2</td>\n",
              "      <td>Bangladesh</td>\n",
              "      <td>170,250,000</td>\n",
              "      <td>143,998</td>\n",
              "      <td>1,182</td>\n",
              "    </tr>\n",
              "    <tr>\n",
              "      <th>2</th>\n",
              "      <td>3</td>\n",
              "      <td>Lebanon</td>\n",
              "      <td>6,856,000</td>\n",
              "      <td>10,452</td>\n",
              "      <td>656</td>\n",
              "    </tr>\n",
              "    <tr>\n",
              "      <th>3</th>\n",
              "      <td>4</td>\n",
              "      <td>Taiwan</td>\n",
              "      <td>23,604,000</td>\n",
              "      <td>36,193</td>\n",
              "      <td>652</td>\n",
              "    </tr>\n",
              "    <tr>\n",
              "      <th>4</th>\n",
              "      <td>5</td>\n",
              "      <td>South Korea</td>\n",
              "      <td>51,781,000</td>\n",
              "      <td>99,538</td>\n",
              "      <td>520</td>\n",
              "    </tr>\n",
              "    <tr>\n",
              "      <th>5</th>\n",
              "      <td>6</td>\n",
              "      <td>Rwanda</td>\n",
              "      <td>12,374,000</td>\n",
              "      <td>26,338</td>\n",
              "      <td>470</td>\n",
              "    </tr>\n",
              "    <tr>\n",
              "      <th>6</th>\n",
              "      <td>7</td>\n",
              "      <td>Haiti</td>\n",
              "      <td>11,578,000</td>\n",
              "      <td>27,065</td>\n",
              "      <td>428</td>\n",
              "    </tr>\n",
              "    <tr>\n",
              "      <th>7</th>\n",
              "      <td>8</td>\n",
              "      <td>Netherlands</td>\n",
              "      <td>17,570,000</td>\n",
              "      <td>41,526</td>\n",
              "      <td>423</td>\n",
              "    </tr>\n",
              "    <tr>\n",
              "      <th>8</th>\n",
              "      <td>9</td>\n",
              "      <td>Israel</td>\n",
              "      <td>9,320,000</td>\n",
              "      <td>22,072</td>\n",
              "      <td>422</td>\n",
              "    </tr>\n",
              "    <tr>\n",
              "      <th>9</th>\n",
              "      <td>10</td>\n",
              "      <td>India</td>\n",
              "      <td>1,373,980,000</td>\n",
              "      <td>3,287,240</td>\n",
              "      <td>418</td>\n",
              "    </tr>\n",
              "  </tbody>\n",
              "</table>\n",
              "</div>"
            ],
            "text/plain": [
              "  Rank       Country     Population       Area Density\n",
              "0    1     Singapore      5,704,000        710   8,033\n",
              "1    2    Bangladesh    170,250,000    143,998   1,182\n",
              "2    3       Lebanon      6,856,000     10,452     656\n",
              "3    4        Taiwan     23,604,000     36,193     652\n",
              "4    5   South Korea     51,781,000     99,538     520\n",
              "5    6        Rwanda     12,374,000     26,338     470\n",
              "6    7         Haiti     11,578,000     27,065     428\n",
              "7    8   Netherlands     17,570,000     41,526     423\n",
              "8    9        Israel      9,320,000     22,072     422\n",
              "9   10         India  1,373,980,000  3,287,240     418"
            ]
          },
          "metadata": {
            "tags": []
          },
          "execution_count": 33
        }
      ]
    },
    {
      "cell_type": "code",
      "metadata": {
        "colab": {
          "base_uri": "https://localhost:8080/"
        },
        "id": "-oXWVzb1lwi_",
        "outputId": "645820fd-1f02-46da-a41b-25c1cbd886ea"
      },
      "source": [
        "pd.read_html(str(tables[0]),flavor='bs4')"
      ],
      "execution_count": null,
      "outputs": [
        {
          "output_type": "execute_result",
          "data": {
            "text/plain": [
              "[        World population (millions, UN estimates)[14]  ...                                                   \n",
              "                                                     #  ...                                            2030[A]\n",
              " 0                                                   1  ...                                               1416\n",
              " 1                                                   2  ...                                               1528\n",
              " 2                                                   3  ...                                                356\n",
              " 3                                                   4  ...                                                295\n",
              " 4                                                   5  ...                                                245\n",
              " 5                                                   6  ...                                                228\n",
              " 6                                                   7  ...                                                263\n",
              " 7                                                   8  ...                                                186\n",
              " 8                                                   9  ...                                                149\n",
              " 9                                                  10  ...                                                148\n",
              " 10                                                NaN  ...                                               8501\n",
              " 11  Notes: ^ 2030 = Medium variant. ^ China exclud...  ...  Notes: ^ 2030 = Medium variant. ^ China exclud...\n",
              " \n",
              " [12 rows x 5 columns]]"
            ]
          },
          "metadata": {
            "tags": []
          },
          "execution_count": 37
        }
      ]
    }
  ]
}