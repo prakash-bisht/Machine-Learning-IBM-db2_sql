{
  "nbformat": 4,
  "nbformat_minor": 0,
  "metadata": {
    "colab": {
      "name": "AI1_python.ipynb",
      "provenance": []
    },
    "kernelspec": {
      "name": "python3",
      "display_name": "Python 3"
    }
  },
  "cells": [
    {
      "cell_type": "code",
      "metadata": {
        "colab": {
          "base_uri": "https://localhost:8080/"
        },
        "id": "s2meItZGTkB7",
        "outputId": "bf01bdbf-4ec4-481c-d3c3-4d2eec28dc15"
      },
      "source": [
        "Name = \"noah bisht\"\n",
        "print(Name[::2])\n",
        "print(\"my name is \\\\ noah bisht \")\n",
        "print(Name.upper())\n",
        "print(Name.lower())\n",
        "b = Name.replace(\"noah\",\"dabbu\")\n",
        "print(b)\n",
        "print(Name.find('ah'))"
      ],
      "execution_count": null,
      "outputs": [
        {
          "output_type": "stream",
          "text": [
            "na ih\n",
            "my name is \\ noah bisht \n",
            "NOAH BISHT\n",
            "noah bisht\n",
            "dabbu bisht\n",
            "2\n"
          ],
          "name": "stdout"
        }
      ]
    },
    {
      "cell_type": "code",
      "metadata": {
        "colab": {
          "base_uri": "https://localhost:8080/"
        },
        "id": "66bzsfDTT3gS",
        "outputId": "27a5f9aa-4b8a-4e7a-eec5-a3cc6b631691"
      },
      "source": [
        "tuple = (\"noah bisht\",6,9)\n",
        "print(tuple)\n",
        "type(tuple)\n",
        "print(tuple[0])\n",
        "print(type(tuple[0]))\n"
      ],
      "execution_count": null,
      "outputs": [
        {
          "output_type": "stream",
          "text": [
            "('noah bisht', 6, 9)\n",
            "noah bisht\n",
            "<class 'str'>\n"
          ],
          "name": "stdout"
        }
      ]
    },
    {
      "cell_type": "code",
      "metadata": {
        "colab": {
          "base_uri": "https://localhost:8080/"
        },
        "id": "_5znwychT3o7",
        "outputId": "26a441a9-8e24-4b52-95e6-b5f9d81c5187"
      },
      "source": [
        "t = (1,(2,3),4,5)\n",
        "print(t[1][1])\n",
        "print(t[-1]) \n",
        "t2 = (\"u\",7,8,9)\n",
        "print(t2 + t)\n"
      ],
      "execution_count": null,
      "outputs": [
        {
          "output_type": "stream",
          "text": [
            "3\n",
            "5\n",
            "('u', 7, 8, 9, 1, (2, 3), 4, 5)\n"
          ],
          "name": "stdout"
        }
      ]
    },
    {
      "cell_type": "code",
      "metadata": {
        "colab": {
          "base_uri": "https://localhost:8080/"
        },
        "id": "4BBKPVFqT3sV",
        "outputId": "f51ef079-61be-4d6e-c90d-fc1fb366332c"
      },
      "source": [
        "nt = (1,(\"noah\",\"bisht\"),(2,(3,4)))\n",
        "print(nt[1][0])\n",
        "print(nt[1][0][0])\n",
        "print(nt[2][1][1])\n",
        "len(nt)"
      ],
      "execution_count": null,
      "outputs": [
        {
          "output_type": "stream",
          "text": [
            "noah\n",
            "n\n",
            "4\n"
          ],
          "name": "stdout"
        },
        {
          "output_type": "execute_result",
          "data": {
            "text/plain": [
              "3"
            ]
          },
          "metadata": {
            "tags": []
          },
          "execution_count": 18
        }
      ]
    },
    {
      "cell_type": "code",
      "metadata": {
        "colab": {
          "base_uri": "https://localhost:8080/"
        },
        "id": "QRsmaamHT3u2",
        "outputId": "d3df015e-676e-4996-a390-d3cc0f198595"
      },
      "source": [
        "list = [\"come on\",1,2,3]\n",
        "list.append(\"guys wake up\")\n",
        "print(list)\n",
        "list.extend(\"u got me huh \")\n",
        "print(list)\n",
        "a = [1,2,3,4]\n",
        "a[0] = 1000\n",
        "b = a\n",
        "b\n",
        "a[3] = 4000\n",
        "b\n",
        "b = a[:]\n",
        "b\n",
        "a[0] = 9000\n",
        "b\n",
        "print(\"noah bisht\".split())\n",
        "print(\"p,r,k,s,h\".split(','))"
      ],
      "execution_count": null,
      "outputs": [
        {
          "output_type": "stream",
          "text": [
            "['come on', 1, 2, 3, 'guys wake up']\n",
            "['come on', 1, 2, 3, 'guys wake up', 'u', ' ', 'g', 'o', 't', ' ', 'm', 'e', ' ', 'h', 'u', 'h', ' ']\n",
            "['noah', 'bisht']\n",
            "['p', 'r', 'k', 's', 'h']\n"
          ],
          "name": "stdout"
        }
      ]
    },
    {
      "cell_type": "code",
      "metadata": {
        "colab": {
          "base_uri": "https://localhost:8080/"
        },
        "id": "WhNCvOe2T3xb",
        "outputId": "eef239ff-e17a-42b4-8f0d-c8ce78c2b153"
      },
      "source": [
        "dict={\"noah_age\":20,\"bisht_age\":21,\"prksh\":22}\n",
        "print(dict.keys())\n",
        "print(dict.values())\n",
        "dict[\"noah_age\"]\n",
        "dict[\"python\"] = '42'\n",
        "dict"
      ],
      "execution_count": null,
      "outputs": [
        {
          "output_type": "stream",
          "text": [
            "dict_keys(['noah_age', 'bisht_age', 'prksh'])\n",
            "dict_values([20, 21, 22])\n"
          ],
          "name": "stdout"
        },
        {
          "output_type": "execute_result",
          "data": {
            "text/plain": [
              "{'bisht_age': 21, 'noah_age': 20, 'prksh': 22, 'python': '42'}"
            ]
          },
          "metadata": {
            "tags": []
          },
          "execution_count": 42
        }
      ]
    },
    {
      "cell_type": "code",
      "metadata": {
        "colab": {
          "base_uri": "https://localhost:8080/"
        },
        "id": "x-pusIMeT3z6",
        "outputId": "6971d470-d8b7-45f0-b150-5e7cf7dafd1b"
      },
      "source": [
        "#del(dict[\"bisht_age\"])\n",
        "#del(dict[\"python\"])\n",
        "dict"
      ],
      "execution_count": null,
      "outputs": [
        {
          "output_type": "execute_result",
          "data": {
            "text/plain": [
              "{'noah_age': 20, 'prksh': 22}"
            ]
          },
          "metadata": {
            "tags": []
          },
          "execution_count": 54
        }
      ]
    },
    {
      "cell_type": "code",
      "metadata": {
        "colab": {
          "base_uri": "https://localhost:8080/"
        },
        "id": "6c4x9LlQT32h",
        "outputId": "1c9b873c-019b-4659-f7c6-6fab0da18b4e"
      },
      "source": [
        "'noah_age' in dict"
      ],
      "execution_count": null,
      "outputs": [
        {
          "output_type": "execute_result",
          "data": {
            "text/plain": [
              "True"
            ]
          },
          "metadata": {
            "tags": []
          },
          "execution_count": 48
        }
      ]
    },
    {
      "cell_type": "code",
      "metadata": {
        "colab": {
          "base_uri": "https://localhost:8080/"
        },
        "id": "1WnbXeIwT35B",
        "outputId": "089a10d3-ecdc-40ef-a2c7-e08d9be2b322"
      },
      "source": [
        "set1 = {\"pop\", \"rock\", \"soul\", \"hard rock\", \"rock\", \"R&B\", \"rock\", \"disco\"}\n",
        "set1"
      ],
      "execution_count": null,
      "outputs": [
        {
          "output_type": "execute_result",
          "data": {
            "text/plain": [
              "{'R&B', 'disco', 'hard rock', 'pop', 'rock', 'soul'}"
            ]
          },
          "metadata": {
            "tags": []
          },
          "execution_count": 55
        }
      ]
    },
    {
      "cell_type": "code",
      "metadata": {
        "colab": {
          "base_uri": "https://localhost:8080/"
        },
        "id": "fDv0D6gyufZk",
        "outputId": "f350e9e7-524c-43c0-e160-d75ea5b17fc7"
      },
      "source": [
        "list3= [1,2,3,4,1]\n",
        "list_to_set = set(list3)\n",
        "list_to_set"
      ],
      "execution_count": null,
      "outputs": [
        {
          "output_type": "execute_result",
          "data": {
            "text/plain": [
              "{1, 2, 3, 4}"
            ]
          },
          "metadata": {
            "tags": []
          },
          "execution_count": 57
        }
      ]
    },
    {
      "cell_type": "code",
      "metadata": {
        "colab": {
          "base_uri": "https://localhost:8080/"
        },
        "id": "8pbT0s__ufnD",
        "outputId": "281a6396-4e77-40e5-e338-33fb5b7be050"
      },
      "source": [
        "other_list_to_set = set([1,2,3,4,5,4,2])\n",
        "other_list_to_set"
      ],
      "execution_count": null,
      "outputs": [
        {
          "output_type": "execute_result",
          "data": {
            "text/plain": [
              "{1, 2, 3, 4, 5}"
            ]
          },
          "metadata": {
            "tags": []
          },
          "execution_count": 58
        }
      ]
    },
    {
      "cell_type": "code",
      "metadata": {
        "colab": {
          "base_uri": "https://localhost:8080/"
        },
        "id": "bumxy6shxG8r",
        "outputId": "9a220749-5fce-4b2d-b791-c6ba7d6349c7"
      },
      "source": [
        "a = set([\"u\",\"got\",\"me\",\"huh\"])\n",
        "a.add(\"fucker\")\n",
        "a.add(\"fucker\")\n",
        "a"
      ],
      "execution_count": null,
      "outputs": [
        {
          "output_type": "execute_result",
          "data": {
            "text/plain": [
              "{'fucker', 'got', 'huh', 'me', 'u'}"
            ]
          },
          "metadata": {
            "tags": []
          },
          "execution_count": 61
        }
      ]
    },
    {
      "cell_type": "code",
      "metadata": {
        "colab": {
          "base_uri": "https://localhost:8080/"
        },
        "id": "WBooARGOxHLu",
        "outputId": "3cf3601f-aaf5-430c-a0fa-50baaf88fe0a"
      },
      "source": [
        "a.remove(\"fucker\")\n",
        "a"
      ],
      "execution_count": null,
      "outputs": [
        {
          "output_type": "execute_result",
          "data": {
            "text/plain": [
              "{'got', 'huh', 'me', 'u'}"
            ]
          },
          "metadata": {
            "tags": []
          },
          "execution_count": 62
        }
      ]
    },
    {
      "cell_type": "code",
      "metadata": {
        "colab": {
          "base_uri": "https://localhost:8080/"
        },
        "id": "2BiMh3qcxHX_",
        "outputId": "bd0b6e16-024f-4a9f-da15-ff95eb58dd94"
      },
      "source": [
        "'me' in a"
      ],
      "execution_count": null,
      "outputs": [
        {
          "output_type": "execute_result",
          "data": {
            "text/plain": [
              "True"
            ]
          },
          "metadata": {
            "tags": []
          },
          "execution_count": 64
        }
      ]
    },
    {
      "cell_type": "code",
      "metadata": {
        "colab": {
          "base_uri": "https://localhost:8080/"
        },
        "id": "K3mlNTkBxHk_",
        "outputId": "48dc9ae8-92dc-4f60-c579-f637109d45fa"
      },
      "source": [
        "set1 = set([1,2,3,4])\n",
        "set2 = set([5,6,7,1])\n",
        "intersection = set1 & set2\n",
        "intersection"
      ],
      "execution_count": null,
      "outputs": [
        {
          "output_type": "execute_result",
          "data": {
            "text/plain": [
              "{1}"
            ]
          },
          "metadata": {
            "tags": []
          },
          "execution_count": 65
        }
      ]
    },
    {
      "cell_type": "code",
      "metadata": {
        "colab": {
          "base_uri": "https://localhost:8080/"
        },
        "id": "uuI-yIO1T38f",
        "outputId": "17db0a31-9481-4c01-877b-38de5a093cd7"
      },
      "source": [
        "set1.difference(set2)"
      ],
      "execution_count": null,
      "outputs": [
        {
          "output_type": "execute_result",
          "data": {
            "text/plain": [
              "{2, 3, 4}"
            ]
          },
          "metadata": {
            "tags": []
          },
          "execution_count": 66
        }
      ]
    },
    {
      "cell_type": "code",
      "metadata": {
        "colab": {
          "base_uri": "https://localhost:8080/"
        },
        "id": "68BrjUa2y2bU",
        "outputId": "fbd5a479-a2c6-4122-a184-f8135704052d"
      },
      "source": [
        "set2.difference(set1)"
      ],
      "execution_count": null,
      "outputs": [
        {
          "output_type": "execute_result",
          "data": {
            "text/plain": [
              "{5, 6, 7}"
            ]
          },
          "metadata": {
            "tags": []
          },
          "execution_count": 67
        }
      ]
    },
    {
      "cell_type": "code",
      "metadata": {
        "colab": {
          "base_uri": "https://localhost:8080/"
        },
        "id": "yP-ifcjgznCM",
        "outputId": "93471940-3092-4cc0-f396-2ddb539a7a7c"
      },
      "source": [
        "set1.intersection(set2)"
      ],
      "execution_count": null,
      "outputs": [
        {
          "output_type": "execute_result",
          "data": {
            "text/plain": [
              "{1}"
            ]
          },
          "metadata": {
            "tags": []
          },
          "execution_count": 68
        }
      ]
    },
    {
      "cell_type": "code",
      "metadata": {
        "colab": {
          "base_uri": "https://localhost:8080/"
        },
        "id": "Y_rt3anxznFB",
        "outputId": "64cb4ba1-216f-47e7-f1f4-865a9a34d60f"
      },
      "source": [
        "set1.union(set2)"
      ],
      "execution_count": null,
      "outputs": [
        {
          "output_type": "execute_result",
          "data": {
            "text/plain": [
              "{1, 2, 3, 4, 5, 6, 7}"
            ]
          },
          "metadata": {
            "tags": []
          },
          "execution_count": 69
        }
      ]
    },
    {
      "cell_type": "code",
      "metadata": {
        "colab": {
          "base_uri": "https://localhost:8080/"
        },
        "id": "H-VDKT9eznId",
        "outputId": "7f770e72-49eb-4e52-e9d2-b6705d8e2937"
      },
      "source": [
        "set1.issubset(set2)"
      ],
      "execution_count": null,
      "outputs": [
        {
          "output_type": "execute_result",
          "data": {
            "text/plain": [
              "False"
            ]
          },
          "metadata": {
            "tags": []
          },
          "execution_count": 70
        }
      ]
    },
    {
      "cell_type": "code",
      "metadata": {
        "colab": {
          "base_uri": "https://localhost:8080/"
        },
        "id": "6qCjFgpSznLm",
        "outputId": "370f732f-d4a5-48b4-9192-ea21ef03a2d9"
      },
      "source": [
        "set1.issuperset(set2)"
      ],
      "execution_count": null,
      "outputs": [
        {
          "output_type": "execute_result",
          "data": {
            "text/plain": [
              "False"
            ]
          },
          "metadata": {
            "tags": []
          },
          "execution_count": 71
        }
      ]
    },
    {
      "cell_type": "code",
      "metadata": {
        "id": "_z8kElRvznN3"
      },
      "source": [
        "import matplotlib.pyplot as plt\n",
        "class Rectangle(object):\n",
        "  def __init__(self,width=2,height=3,color='r'):\n",
        "    self.width = width \n",
        "    self.height = height\n",
        "    self.color = color\n",
        "\n",
        "  def draw_rectangle(self):\n",
        "    plt.gca().add_patch(plt.Rectangle((0,0),self.width,self.height,fc=self.color))\n",
        "    plt.axes('scaled')\n",
        "    plt.show()"
      ],
      "execution_count": null,
      "outputs": []
    },
    {
      "cell_type": "code",
      "metadata": {
        "colab": {
          "base_uri": "https://localhost:8080/"
        },
        "id": "KQ2uYHu-znRL",
        "outputId": "463c6b24-be5e-436c-8201-61aa2bfbbec0"
      },
      "source": [
        "rec = Rectangle(2,10,'blue')\n",
        "dir(rec)"
      ],
      "execution_count": null,
      "outputs": [
        {
          "output_type": "execute_result",
          "data": {
            "text/plain": [
              "['__class__',\n",
              " '__delattr__',\n",
              " '__dict__',\n",
              " '__dir__',\n",
              " '__doc__',\n",
              " '__eq__',\n",
              " '__format__',\n",
              " '__ge__',\n",
              " '__getattribute__',\n",
              " '__gt__',\n",
              " '__hash__',\n",
              " '__init__',\n",
              " '__init_subclass__',\n",
              " '__le__',\n",
              " '__lt__',\n",
              " '__module__',\n",
              " '__ne__',\n",
              " '__new__',\n",
              " '__reduce__',\n",
              " '__reduce_ex__',\n",
              " '__repr__',\n",
              " '__setattr__',\n",
              " '__sizeof__',\n",
              " '__str__',\n",
              " '__subclasshook__',\n",
              " '__weakref__',\n",
              " 'color',\n",
              " 'draw_rectangle',\n",
              " 'height',\n",
              " 'width']"
            ]
          },
          "metadata": {
            "tags": []
          },
          "execution_count": 83
        }
      ]
    },
    {
      "cell_type": "code",
      "metadata": {
        "colab": {
          "base_uri": "https://localhost:8080/"
        },
        "id": "7uy1bkmZznTZ",
        "outputId": "5c8fc43e-dfa5-4168-e510-d536babbe578"
      },
      "source": [
        "rec.height"
      ],
      "execution_count": null,
      "outputs": [
        {
          "output_type": "execute_result",
          "data": {
            "text/plain": [
              "10"
            ]
          },
          "metadata": {
            "tags": []
          },
          "execution_count": 84
        }
      ]
    },
    {
      "cell_type": "code",
      "metadata": {
        "colab": {
          "base_uri": "https://localhost:8080/"
        },
        "id": "FiQKPczMznVh",
        "outputId": "fe4ccc44-e5d6-4766-a577-92960a0ba6da"
      },
      "source": [
        "rec.width"
      ],
      "execution_count": null,
      "outputs": [
        {
          "output_type": "execute_result",
          "data": {
            "text/plain": [
              "2"
            ]
          },
          "metadata": {
            "tags": []
          },
          "execution_count": 88
        }
      ]
    },
    {
      "cell_type": "code",
      "metadata": {
        "id": "z2a2wT265Cal"
      },
      "source": [
        "f = \"noah.txt\"\n",
        "file1 = open(f,'r')"
      ],
      "execution_count": null,
      "outputs": []
    },
    {
      "cell_type": "code",
      "metadata": {
        "colab": {
          "base_uri": "https://localhost:8080/",
          "height": 36
        },
        "id": "GP1IDpfi8LI8",
        "outputId": "066db956-2680-46dc-8c07-f0f78bbd65ad"
      },
      "source": [
        "file1.name"
      ],
      "execution_count": null,
      "outputs": [
        {
          "output_type": "execute_result",
          "data": {
            "application/vnd.google.colaboratory.intrinsic+json": {
              "type": "string"
            },
            "text/plain": [
              "'noah.txt'"
            ]
          },
          "metadata": {
            "tags": []
          },
          "execution_count": 99
        }
      ]
    },
    {
      "cell_type": "code",
      "metadata": {
        "colab": {
          "base_uri": "https://localhost:8080/",
          "height": 36
        },
        "id": "PSF2Ng5E8LUm",
        "outputId": "fe345331-f143-4935-de15-3e0a1efe51c7"
      },
      "source": [
        "file1.mode"
      ],
      "execution_count": null,
      "outputs": [
        {
          "output_type": "execute_result",
          "data": {
            "application/vnd.google.colaboratory.intrinsic+json": {
              "type": "string"
            },
            "text/plain": [
              "'r'"
            ]
          },
          "metadata": {
            "tags": []
          },
          "execution_count": 100
        }
      ]
    },
    {
      "cell_type": "code",
      "metadata": {
        "colab": {
          "base_uri": "https://localhost:8080/",
          "height": 36
        },
        "id": "AaehnKRf8Lhq",
        "outputId": "efd7fc7e-69c6-4203-e548-fbd661db7e32"
      },
      "source": [
        "filecontent = file1.read()\n",
        "filecontent"
      ],
      "execution_count": null,
      "outputs": [
        {
          "output_type": "execute_result",
          "data": {
            "application/vnd.google.colaboratory.intrinsic+json": {
              "type": "string"
            },
            "text/plain": [
              "'this is line 1\\nthis is line 2 \\nthis is line 3\\n\\n'"
            ]
          },
          "metadata": {
            "tags": []
          },
          "execution_count": 101
        }
      ]
    },
    {
      "cell_type": "code",
      "metadata": {
        "colab": {
          "base_uri": "https://localhost:8080/"
        },
        "id": "5r2Tq63F8LvO",
        "outputId": "3ba537e0-a41a-4d8f-fa35-e198b497d4d6"
      },
      "source": [
        "type(filecontent)"
      ],
      "execution_count": null,
      "outputs": [
        {
          "output_type": "execute_result",
          "data": {
            "text/plain": [
              "str"
            ]
          },
          "metadata": {
            "tags": []
          },
          "execution_count": 102
        }
      ]
    },
    {
      "cell_type": "code",
      "metadata": {
        "colab": {
          "base_uri": "https://localhost:8080/"
        },
        "id": "nLoqYR8z8L9A",
        "outputId": "5dc3de50-8ef5-45e4-9285-ac11537975f0"
      },
      "source": [
        "print(filecontent)"
      ],
      "execution_count": null,
      "outputs": [
        {
          "output_type": "stream",
          "text": [
            "this is line 1\n",
            "this is line 2 \n",
            "this is line 3\n",
            "\n",
            "\n"
          ],
          "name": "stdout"
        }
      ]
    },
    {
      "cell_type": "code",
      "metadata": {
        "id": "g38kp9xA8MKR"
      },
      "source": [
        "file1.close()"
      ],
      "execution_count": null,
      "outputs": []
    },
    {
      "cell_type": "code",
      "metadata": {
        "colab": {
          "base_uri": "https://localhost:8080/"
        },
        "id": "BsyQ3jqO8MSV",
        "outputId": "48f4e47f-42d6-4fb6-a79a-52dfebbdff75"
      },
      "source": [
        "with open(f,\"r\") as file:\n",
        "  fc = file.read()\n",
        "  print(fc)\n",
        "file.close()  "
      ],
      "execution_count": null,
      "outputs": [
        {
          "output_type": "stream",
          "text": [
            "this is line 1\n",
            "this is line 2 \n",
            "this is line 3\n",
            "\n",
            "\n"
          ],
          "name": "stdout"
        }
      ]
    },
    {
      "cell_type": "code",
      "metadata": {
        "id": "oRpRSYbL8MU6"
      },
      "source": [
        "with open(f,\"r\") as file:\n",
        "  #print(file.read(4))\n",
        "  #print(file.readline())\n",
        "  #print(file.readlines())\n",
        "  b = file.readlines()\n",
        "  "
      ],
      "execution_count": null,
      "outputs": []
    },
    {
      "cell_type": "code",
      "metadata": {
        "colab": {
          "base_uri": "https://localhost:8080/",
          "height": 36
        },
        "id": "NDUeoTsr8MXy",
        "outputId": "85a716c3-fa58-4aaf-b593-4237252e3ec3"
      },
      "source": [
        "b[0]"
      ],
      "execution_count": null,
      "outputs": [
        {
          "output_type": "execute_result",
          "data": {
            "application/vnd.google.colaboratory.intrinsic+json": {
              "type": "string"
            },
            "text/plain": [
              "'this is line 1\\n'"
            ]
          },
          "metadata": {
            "tags": []
          },
          "execution_count": 112
        }
      ]
    },
    {
      "cell_type": "code",
      "metadata": {
        "id": "TR4tour48Mb7"
      },
      "source": [
        "with open(f,\"w\") as file2:\n",
        "  file2.write(\"u got me huh\")"
      ],
      "execution_count": null,
      "outputs": []
    },
    {
      "cell_type": "code",
      "metadata": {
        "colab": {
          "base_uri": "https://localhost:8080/"
        },
        "id": "aUujN5wK8Mmp",
        "outputId": "c23dd1ab-6ae8-4419-cee8-706c3a688c96"
      },
      "source": [
        "with open(f,\"r\") as file3:\n",
        "  fv = file3.read()\n",
        "  print(fv)"
      ],
      "execution_count": null,
      "outputs": [
        {
          "output_type": "stream",
          "text": [
            "u got me huh\n"
          ],
          "name": "stdout"
        }
      ]
    },
    {
      "cell_type": "code",
      "metadata": {
        "id": "DtNk2bO68MpQ"
      },
      "source": [
        "with open(f,\"a\") as file4:\n",
        "  fvv = file4.write(\"this is a line\")"
      ],
      "execution_count": null,
      "outputs": []
    },
    {
      "cell_type": "code",
      "metadata": {
        "colab": {
          "base_uri": "https://localhost:8080/"
        },
        "id": "9QTgasFu8Mtg",
        "outputId": "b20d07f1-330b-4666-f032-78de1c9331c0"
      },
      "source": [
        "with open(f,\"r\") as file5:\n",
        "  fv = file5.read()\n",
        "  print(fv)"
      ],
      "execution_count": null,
      "outputs": [
        {
          "output_type": "stream",
          "text": [
            "u got me huhthis is a line\n"
          ],
          "name": "stdout"
        }
      ]
    }
  ]
}